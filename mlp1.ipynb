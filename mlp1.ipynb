{
 "cells": [
  {
   "cell_type": "markdown",
   "metadata": {},
   "source": [
    "## good old multi-layer perceptron (MLP) from scratch"
   ]
  },
  {
   "cell_type": "markdown",
   "metadata": {},
   "source": [
    "tiny toy problem, no test data, one hidden layer, square loss (solution of \"mlp0\")\n",
    "- play with parameters\n",
    "- monitor training error\n",
    "- replace first sigmoid by ReLU"
   ]
  },
  {
   "cell_type": "code",
   "execution_count": 1,
   "metadata": {
    "collapsed": false
   },
   "outputs": [],
   "source": [
    "import numpy as np\n",
    "import matplotlib.pyplot as plt\n",
    "\n",
    "# main parameters\n",
    "iterNum = 300\n",
    "stepSizes = [0.01,0.1,1,10,100]\n",
    "hiddenSize = 4\n",
    "\n",
    "# Display plots inline \n",
    "%matplotlib inline\n",
    "# Define plot's default figure size\n",
    "matplotlib.rcParams['figure.figsize'] = (2.0, 2.0)"
   ]
  },
  {
   "cell_type": "markdown",
   "metadata": {},
   "source": [
    "bounded smooth non-linearity: \n",
    "$\\sigma(x) = \\frac{1}{1+\\exp(-x)},\\quad\\sigma'(x) = \\sigma(x)(1-\\sigma(x))$"
   ]
  },
  {
   "cell_type": "code",
   "execution_count": 2,
   "metadata": {
    "collapsed": true
   },
   "outputs": [],
   "source": [
    "# compute sigmoid\n",
    "def sigmoid(x):\n",
    "    output = 1/(1+np.exp(-x))\n",
    "    return output\n",
    "\n",
    "# convert output of sigmoid function to its derivative\n",
    "def sigmoid_output_to_derivative(output):\n",
    "    return output*(1-output)"
   ]
  },
  {
   "cell_type": "code",
   "execution_count": 3,
   "metadata": {
    "collapsed": true
   },
   "outputs": [],
   "source": [
    "# input dataset\n",
    "X = np.array([  [0,0,1,1],\n",
    "                [0,1,0,1],\n",
    "                [1,1,1,1] ])\n",
    "trainNum = X.shape[1]\n",
    "\n",
    "# output dataset            \n",
    "Y = np.array([[0,1,1,0]])"
   ]
  },
  {
   "cell_type": "code",
   "execution_count": 4,
   "metadata": {
    "collapsed": false,
    "scrolled": true
   },
   "outputs": [
    {
     "data": {
      "text/plain": [
       "<matplotlib.text.Text at 0x7fbfc1e25f50>"
      ]
     },
     "execution_count": 4,
     "metadata": {},
     "output_type": "execute_result"
    },
    {
     "data": {
      "image/png": "[encoded data removed]",
      "text/plain": [
       "<matplotlib.figure.Figure at 0x7fc147a1a950>"
      ]
     },
     "metadata": {},
     "output_type": "display_data"
    }
   ],
   "source": [
    "# initialize weights randomly with mean 0\n",
    "np.random.seed(1)\n",
    "W1 = 2 * np.random.random((hiddenSize,3)) - 1\n",
    "W2 = 2 * np.random.random((1,hiddenSize)) - 1\n",
    "\n",
    "# visualize weights\n",
    "plt.subplot(121)\n",
    "plt.imshow(W1,interpolation = 'none')\n",
    "plt.axis('off')\n",
    "plt.title('W1')\n",
    "plt.subplot(122)\n",
    "plt.imshow(W2,interpolation = 'none')\n",
    "plt.axis('off')\n",
    "plt.title('W2')"
   ]
  },
  {
   "cell_type": "markdown",
   "metadata": {},
   "source": [
    "activation (no bias): $a_{\\ell} = Wx_{\\ell-1}$, output: $x_{\\ell} = \\sigma(a_{\\ell})$  "
   ]
  },
  {
   "cell_type": "markdown",
   "metadata": {},
   "source": [
    "square loss: $\\frac{1}{2N} \\sum_{n=1}^{N} \\|x_2^{(n)}-y^{(n)}\\|^2$"
   ]
  },
  {
   "cell_type": "code",
   "execution_count": 5,
   "metadata": {
    "collapsed": false
   },
   "outputs": [
    {
     "name": "stdout",
     "output_type": "stream",
     "text": [
      "Prediction for step size :0.01 : \n",
      "[[ 0.46693509  0.44372128  0.49290942  0.47199768]]\n",
      "Prediction for step size :0.1 : \n",
      "[[ 0.48749753  0.46884626  0.51438172  0.4961609 ]]\n",
      "Prediction for step size :1 : \n",
      "[[ 0.45307008  0.49488068  0.524805    0.52743277]]\n",
      "Prediction for step size :10 : \n",
      "[[ 0.04999666  0.94300372  0.95292847  0.05559892]]\n",
      "Prediction for step size :100 : \n",
      "[[ 0.01127926  0.98756488  0.99067026  0.01075848]]\n"
     ]
    }
   ],
   "source": [
    "# training with full-batch fixed step-size gradient descent\n",
    "for stepSize in stepSizes:\n",
    "    for iter in range(iterNum):\n",
    "    \n",
    "        # forward propagation on all training data\n",
    "        X0 = X\n",
    "        A1 = np.dot(W1,X0)  \n",
    "        X1 = sigmoid(A1)\n",
    "        A2 = np.dot(W2,X1)\n",
    "        X2 = sigmoid(A2)   \n",
    "        \n",
    "        # back propagation of errors\n",
    "        G2 = X2 - Y\n",
    "        H2  = G2 * sigmoid_output_to_derivative(X2)\n",
    "        G1 = np.dot(W2.T,H2)\n",
    "        H1 = G1 * sigmoid_output_to_derivative(X1)\n",
    "    \n",
    "        W2 -= stepSize * np.dot(H2,X1.T) / trainNum\n",
    "        W1 -= stepSize * np.dot(H1,X0.T) / trainNum\n",
    "    \n",
    "    print(\"Prediction for step size :\" + str(stepSize) + \" : \" )\n",
    "    print(X2)"
   ]
  }
 ],
 "metadata": {
  "anaconda-cloud": {},
  "kernelspec": {
   "display_name": "Python [default]",
   "language": "python",
   "name": "python2"
  },
  "language_info": {
   "codemirror_mode": {
    "name": "ipython",
    "version": 2
   },
   "file_extension": ".py",
   "mimetype": "text/x-python",
   "name": "python",
   "nbconvert_exporter": "python",
   "pygments_lexer": "ipython2",
   "version": "2.7.12"
  }
 },
 "nbformat": 4,
 "nbformat_minor": 1
}
