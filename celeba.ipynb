{
 "cells": [
  {
   "cell_type": "code",
   "execution_count": 11,
   "metadata": {
    "collapsed": true
   },
   "outputs": [],
   "source": [
    "import scipy\n",
    "import matplotlib.pyplot as plt\n",
    "%matplotlib inline\n",
    "import h5py\n"
   ]
  },
  {
   "cell_type": "code",
   "execution_count": null,
   "metadata": {
    "collapsed": true
   },
   "outputs": [],
   "source": [
    "f = '/home/wp01/data/CACD'\n",
    "fct = lambda x : [x[k] for k in  x.keys()]\n",
    "with h5py.File(f + '/celebrity2000.mat', 'r') as fd:\n",
    "    print [map(fct, fct(fd))\n",
    "    \n",
    "           "
   ]
  },
  {
   "cell_type": "code",
   "execution_count": 28,
   "metadata": {
    "collapsed": false
   },
   "outputs": [
    {
     "name": "stdout",
     "output_type": "stream",
     "text": [
      "['__doc__', '__init__', '__module__', 'b', 'f']\n"
     ]
    }
   ],
   "source": [
    "class A :\n",
    "    def __init__(self) :\n",
    "        self.a = 1\n",
    "    def f(self) :\n",
    "        print dir(self)\n",
    "class B(A) :\n",
    "    def __init__(self) :\n",
    "        super(B, self).__init__()\n",
    "        self.b = 2\n",
    "class B1(A) :\n",
    "    def __init__(self) :\n",
    "        self.b = 2\n",
    "    \n",
    "b = B1()\n",
    "b.f()\n"
   ]
  },
  {
   "cell_type": "code",
   "execution_count": null,
   "metadata": {
    "collapsed": true
   },
   "outputs": [],
   "source": []
  }
 ],
 "metadata": {
  "kernelspec": {
   "display_name": "Python 2",
   "language": "python",
   "name": "python2"
  },
  "language_info": {
   "codemirror_mode": {
    "name": "ipython",
    "version": 2
   },
   "file_extension": ".py",
   "mimetype": "text/x-python",
   "name": "python",
   "nbconvert_exporter": "python",
   "pygments_lexer": "ipython2",
   "version": "2.7.11"
  }
 },
 "nbformat": 4,
 "nbformat_minor": 0
}
