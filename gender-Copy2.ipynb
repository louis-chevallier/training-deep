{
 "cells": [
  {
   "cell_type": "code",
   "execution_count": 2,
   "metadata": {
    "collapsed": false
   },
   "outputs": [
    {
     "name": "stderr",
     "output_type": "stream",
     "text": [
      "Using Theano backend.\n"
     ]
    },
    {
     "name": "stdout",
     "output_type": "stream",
     "text": [
      "Couldn't import dot_parser, loading of dot files will not be possible.\n"
     ]
    },
    {
     "name": "stderr",
     "output_type": "stream",
     "text": [
      "Using gpu device 0: Quadro K5200 (CNMeM is disabled, cuDNN 5005)\n"
     ]
    }
   ],
   "source": [
    "import sys\n",
    "sys.path.append('..')\n",
    "import alfw\n",
    "from alfw import Face, lmnames, goodmarksnames, split\n",
    "import numpy as np\n",
    "import matplotlib.pyplot as plt\n",
    "import skimage\n",
    "%matplotlib inline\n",
    "\n",
    "from keras.initializations import *\n",
    "from keras.models import Model\n",
    "from keras.layers import Dropout, Activation, Flatten, Dense, Input, merge, Convolution2D, MaxPooling2D, UpSampling2D, Merge, Reshape, MaxPooling2D\n",
    "from keras.optimizers import Adam, SGD\n",
    "from keras.objectives import mean_squared_error\n",
    "from keras.callbacks import ModelCheckpoint, LearningRateScheduler, ProgbarLogger, EarlyStopping\n",
    "from keras import backend as K\n",
    "import keras\n",
    "from theano.sandbox.cuda.dnn import *\n",
    "import sklearn.metrics\n",
    "import scipy"
   ]
  },
  {
   "cell_type": "markdown",
   "metadata": {},
   "source": [
    " ### Predicting gender with KERAS => https://keras.io/ \n",
    " \n",
    " #### Improve the network\n",
    " \n",
    " accuracy to beat : 0.88\n",
    " \n",
    "  - add layers\n",
    "  - modify training params (learning rate, optimizer)\n",
    "  - modify loss fct (hinge)\n",
    "  - augment data\n",
    " \n",
    " #### Visualization\n",
    " \n",
    "  - Print weights of conv layers\n",
    "  - Visualize feature maps => https://github.com/julienr/ipynb_playground/blob/master/keras/convmnist/keras_cnn_mnist.ipynb \n",
    "  - Implement CAM to visualize which areas of faces are most discriminative wrt gender => https://github.com/jacobgil/keras-cam \n",
    "  \n",
    " "
   ]
  },
  {
   "cell_type": "code",
   "execution_count": 3,
   "metadata": {
    "collapsed": false
   },
   "outputs": [
    {
     "name": "stdout",
     "output_type": "stream",
     "text": [
      "loading..\n",
      "im.shape:  (21776, 128, 128, 3)\n",
      "feats.shape: (21776, 28, 2)\n",
      "hogs.shape: (21776, 8100)\n",
      "8166 21776\n",
      "ytrain.shape  (7349, 12, 2)\n",
      "ytrain  (7349, 12, 2)\n",
      "(7349, 128, 128, 3)\n",
      "mean  (7349, 128, 128)\n",
      "(7349, 128, 128, 1)\n"
     ]
    }
   ],
   "source": [
    "Xtrain, ytrain, ht, mm, Xtest, ytest, hts, mmt, (mean, std, meany, stdy, meani, stdi), scale, unscale, d = alfw.prepare(200000, onlyvisible=True)\n",
    "print 'ytrain ', ytrain.shape    \n",
    "print Xtrain.shape\n",
    "\n",
    "print 'mean ', np.mean(Xtrain, axis=3).shape\n",
    "\n",
    "# to grey\n",
    "Xtrain = np.mean(Xtrain, axis=3).reshape(Xtrain.shape[0], Xtrain.shape[1], Xtrain.shape[2], 1)\n",
    "Xtest = np.mean(Xtest, axis=3).reshape(Xtest.shape[0], Xtest.shape[1], Xtest.shape[2], 1)\n",
    "Xtest1 = Xtest\n",
    "\n",
    "# normalize between 0 , 1\n",
    "Xtrain, ytrain, ht = scale( Xtrain, ytrain, ht )\n",
    "Xtest, ytest, hts = scale( Xtest, ytest, hts )\n",
    "print Xtrain.shape"
   ]
  },
  {
   "cell_type": "markdown",
   "metadata": {},
   "source": [
    "## classification gender\n",
    "\n",
    "play with data augmentation\n",
    "cnn structure (maxpooling, conv layers)\n",
    "\n"
   ]
  },
  {
   "cell_type": "code",
   "execution_count": 4,
   "metadata": {
    "collapsed": false
   },
   "outputs": [
    {
     "name": "stdout",
     "output_type": "stream",
     "text": [
      "7349\n",
      "Face(genre=u'f', roll=0.51872730255127, pitch=-0.158842504024506, yaw=-0.127118334174156, feats=array([[  11.1790393 ,   54.21834061],\n",
      "       [  19.00436681,   39.68558952],\n",
      "       [  41.92139738,   33.5371179 ],\n",
      "       [  58.68995633,   25.15283843],\n",
      "       [  76.01746725,   13.97379913],\n",
      "       [  87.75545852,   16.20960699],\n",
      "       [  23.47598253,   54.77729258],\n",
      "       [  30.74235808,   48.62882096],\n",
      "       [  39.68558952,   46.95196507],\n",
      "       [  68.7510917 ,   34.65502183],\n",
      "       [  75.45851528,   29.06550218],\n",
      "       [  84.40174672,   27.38864629],\n",
      "       [  17.88646288,   89.99126638],\n",
      "       [  59.2489083 ,   70.98689956],\n",
      "       [  68.7510917 ,   62.60262009],\n",
      "       [  78.25327511,   62.04366812],\n",
      "       [ -10.        ,  -10.        ],\n",
      "       [  57.5720524 ,   91.10917031],\n",
      "       [  74.34061135,   82.72489083],\n",
      "       [  89.43231441,   77.13537118],\n",
      "       [  83.84279476,  108.43668122],\n",
      "       [ -10.        ,  -10.        ],\n",
      "       [ -10.        ,  -10.        ],\n",
      "       [ -10.        ,  -10.        ],\n",
      "       [ -10.        ,  -10.        ],\n",
      "       [ -10.        ,  -10.        ],\n",
      "       [ -10.        ,  -10.        ],\n",
      "       [ -10.        ,  -10.        ]]), facex=91, facey=49, facew=229, faceh=229, filepath='/home/wp01/data/aflw/data/flickr/3/image00874.jpg', shape=(500, 375, 3), hog=array([ 0.18640707,  0.1497836 ,  0.02942401, ...,  0.0621224 ,\n",
      "        0.01555048,  0.00875847]))\n",
      "7349\n"
     ]
    }
   ],
   "source": [
    "print len(d['md'][0]) # describe faces of the training set ( #1 => val set)\n",
    "face12 = d['md'][0][12]\n",
    "print face12\n",
    "roll = [face.roll for face in d['md'][0]]\n",
    "print len(roll)"
   ]
  },
  {
   "cell_type": "code",
   "execution_count": 9,
   "metadata": {
    "collapsed": false
   },
   "outputs": [
    {
     "name": "stdout",
     "output_type": "stream",
     "text": [
      "[1 1 0 ..., 1 1 0]\n",
      "(7349,)\n"
     ]
    }
   ],
   "source": [
    "genders = np.asarray([x.genre == 'f' for x in d['md'][0]])\n",
    "genders_test = np.asarray([x.genre == 'f' for x in d['md'][1]])\n",
    "print genders[20:]*1\n",
    "print genders.shape"
   ]
  },
  {
   "cell_type": "markdown",
   "metadata": {},
   "source": [
    "### Convolutional layers\n",
    "<img src=\"http://rennsrdtacmapp05/wp01/www/assets/conv2D.PNG\" width=\"50%\" height=\"50%\">\n",
    "\n",
    "Relu activation : $ a(x) = max(0, x) $ \n"
   ]
  },
  {
   "cell_type": "code",
   "execution_count": 10,
   "metadata": {
    "collapsed": true
   },
   "outputs": [],
   "source": [
    "# simple network\n",
    "# input is 2D grey scale\n",
    "inputs = Input((1, alfw.size, alfw.size))\n",
    "conv01 = Convolution2D(32, 5, 5, subsample=(2,2), activation='relu')(inputs)\n",
    "mp2 = MaxPooling2D((2,2))(conv01)\n",
    "f = Flatten()(mp2)"
   ]
  },
  {
   "cell_type": "markdown",
   "metadata": {},
   "source": [
    "### the sigmoid to predict pobabilities\n",
    "<img src=\"http://rennsrdtacmapp05/wp01/www/assets/sigmoid1.png\">"
   ]
  },
  {
   "cell_type": "code",
   "execution_count": 11,
   "metadata": {
    "collapsed": true
   },
   "outputs": [],
   "source": [
    "h1 = Dense(1, activation='sigmoid')(f)\n",
    "modelGender = Model(input=inputs, output=h1)\n",
    "sgd = SGD(lr=0.0051, momentum=0.9, nesterov=True, decay=1e-6)"
   ]
  },
  {
   "cell_type": "markdown",
   "metadata": {},
   "source": [
    "## Keras built-in loss func (regression, classif ..)\n",
    "Binary cross-entropy :\n",
    "$ - p * log(y) + (1-p) log(1-y) $\n",
    "<img src=\"http://rennsrdtacmapp05/wp01/www/assets/binary-cross-entropy.png\">\n",
    "\n",
    "Accuracy : $ (TP+TN) / (P+N)$"
   ]
  },
  {
   "cell_type": "code",
   "execution_count": 15,
   "metadata": {
    "collapsed": false
   },
   "outputs": [
    {
     "name": "stdout",
     "output_type": "stream",
     "text": [
      "____________________________________________________________________________________________________\n",
      "Layer (type)                     Output Shape          Param #     Connected to                     \n",
      "====================================================================================================\n",
      "input_2 (InputLayer)             (None, 1, 128, 128)   0                                            \n",
      "____________________________________________________________________________________________________\n",
      "convolution2d_2 (Convolution2D)  (None, 32, 62, 62)    832         input_2[0][0]                    \n",
      "____________________________________________________________________________________________________\n",
      "maxpooling2d_2 (MaxPooling2D)    (None, 32, 31, 31)    0           convolution2d_2[0][0]            \n",
      "____________________________________________________________________________________________________\n",
      "flatten_2 (Flatten)              (None, 30752)         0           maxpooling2d_2[0][0]             \n",
      "____________________________________________________________________________________________________\n",
      "dense_2 (Dense)                  (None, 1)             30753       flatten_2[0][0]                  \n",
      "====================================================================================================\n",
      "Total params: 31585\n",
      "____________________________________________________________________________________________________\n"
     ]
    }
   ],
   "source": [
    "modelGender.compile(loss='binary_crossentropy', optimizer=sgd, metrics=['accuracy'])\n",
    "modelGender.summary()"
   ]
  },
  {
   "cell_type": "code",
   "execution_count": 16,
   "metadata": {
    "collapsed": false
   },
   "outputs": [
    {
     "name": "stdout",
     "output_type": "stream",
     "text": [
      "Train on 5144 samples, validate on 2205 samples\n",
      "Epoch 1/10\n",
      "5144/5144 [==============================] - 1s - loss: 0.9085 - acc: 0.5717 - val_loss: 0.6896 - val_acc: 0.5510\n",
      "Epoch 2/10\n",
      "5144/5144 [==============================] - 1s - loss: 0.6850 - acc: 0.5712 - val_loss: 0.6857 - val_acc: 0.5510\n",
      "Epoch 3/10\n",
      "5144/5144 [==============================] - 1s - loss: 0.6770 - acc: 0.5712 - val_loss: 0.6800 - val_acc: 0.5510\n",
      "Epoch 4/10\n",
      "5144/5144 [==============================] - 1s - loss: 0.6593 - acc: 0.5830 - val_loss: 0.6602 - val_acc: 0.5732\n",
      "Epoch 5/10\n",
      "5144/5144 [==============================] - 1s - loss: 0.6173 - acc: 0.6777 - val_loss: 0.6301 - val_acc: 0.6535\n",
      "Epoch 6/10\n",
      "5144/5144 [==============================] - 1s - loss: 0.5825 - acc: 0.7035 - val_loss: 0.6212 - val_acc: 0.6635\n",
      "Epoch 7/10\n",
      "5144/5144 [==============================] - 1s - loss: 0.5681 - acc: 0.7098 - val_loss: 0.6176 - val_acc: 0.6662\n",
      "Epoch 8/10\n",
      "5144/5144 [==============================] - 1s - loss: 0.5575 - acc: 0.7230 - val_loss: 0.6083 - val_acc: 0.6726\n",
      "Epoch 9/10\n",
      "5144/5144 [==============================] - 1s - loss: 0.5453 - acc: 0.7311 - val_loss: 0.6056 - val_acc: 0.6658\n",
      "Epoch 10/10\n",
      "5144/5144 [==============================] - 1s - loss: 0.5350 - acc: 0.7393 - val_loss: 0.6074 - val_acc: 0.6649\n"
     ]
    }
   ],
   "source": [
    "history = modelGender.fit(np.transpose(Xtrain, (0, 3, 1, 2)),\n",
    "                    (genders*1).astype(np.float32),\n",
    "                    batch_size=128,\n",
    "                    nb_epoch=10, verbose=1, shuffle=True,\n",
    "                    validation_split = 0.3)"
   ]
  },
  {
   "cell_type": "code",
   "execution_count": 17,
   "metadata": {
    "collapsed": false
   },
   "outputs": [
    {
     "data": {
      "text/plain": [
       "[<matplotlib.lines.Line2D at 0x7fa4af905850>]"
      ]
     },
     "execution_count": 17,
     "metadata": {},
     "output_type": "execute_result"
    },
    {
     "data": {
      "image/png": "[encoded data removed]",
      "text/plain": [
       "<matplotlib.figure.Figure at 0x7fa43dc79410>"
      ]
     },
     "metadata": {},
     "output_type": "display_data"
    }
   ],
   "source": [
    "history.history\n",
    "plt.plot(history.history['loss'][1:], color='blue', label='train')\n",
    "plt.plot(history.history['val_loss'][1:], color='green' )\n",
    "plt.plot(history.history['val_acc'][1:], color='red' )\n"
   ]
  },
  {
   "cell_type": "code",
   "execution_count": 18,
   "metadata": {
    "collapsed": false
   },
   "outputs": [
    {
     "data": {
      "text/plain": [
       "(array([ 365.,    0.,    0.,    0.,    0.,    0.,    0.,    0.,    0.,  452.]),\n",
       " array([ 0. ,  0.1,  0.2,  0.3,  0.4,  0.5,  0.6,  0.7,  0.8,  0.9,  1. ]),\n",
       " <a list of 10 Patch objects>)"
      ]
     },
     "execution_count": 18,
     "metadata": {},
     "output_type": "execute_result"
    },
    {
     "data": {
      "image/png": "[encoded data removed]",
      "text/plain": [
       "<matplotlib.figure.Figure at 0x7fa4af99e290>"
      ]
     },
     "metadata": {},
     "output_type": "display_data"
    }
   ],
   "source": [
    "plt.hist(genders_test*1)"
   ]
  },
  {
   "cell_type": "code",
   "execution_count": 19,
   "metadata": {
    "collapsed": false
   },
   "outputs": [
    {
     "name": "stdout",
     "output_type": "stream",
     "text": [
      "(817,)\n",
      "accuracy 0.725597042066\n",
      "0.676866585067\n"
     ]
    },
    {
     "data": {
      "text/plain": [
       "[<matplotlib.lines.Line2D at 0x7fa3ab5b8890>]"
      ]
     },
     "execution_count": 19,
     "metadata": {},
     "output_type": "execute_result"
    },
    {
     "data": {
      "image/png": "[encoded data removed]",
      "text/plain": [
       "<matplotlib.figure.Figure at 0x7fa4af85ec50>"
      ]
     },
     "metadata": {},
     "output_type": "display_data"
    }
   ],
   "source": [
    "predtest = modelGender.predict(np.transpose(Xtest, (0, 3, 1, 2)))[:,0]\n",
    "print predtest.shape\n",
    "print 'accuracy',  sklearn.metrics.roc_auc_score(genders_test * 1 , predtest)\n",
    "print sklearn.metrics.accuracy_score(genders_test * 1 , predtest>0.5)\n",
    "fp, tp, _ = sklearn.metrics.roc_curve(genders_test * 1 , predtest)\n",
    "plt.title('ROC curve')\n",
    "plt.plot(fp, tp)\n",
    "\n"
   ]
  },
  {
   "cell_type": "code",
   "execution_count": 20,
   "metadata": {
    "collapsed": false
   },
   "outputs": [
    {
     "name": "stdout",
     "output_type": "stream",
     "text": [
      "(817, 128, 128, 1)\n",
      "0\n"
     ]
    }
   ],
   "source": [
    "print Xtest.shape\n",
    "modelGender.predict(np.transpose(Xtest[31:32,:,:,:], (0, 3, 1, 2)))\n",
    "print genders_test[31]*1"
   ]
  },
  {
   "cell_type": "code",
   "execution_count": 21,
   "metadata": {
    "collapsed": false
   },
   "outputs": [
    {
     "data": {
      "text/plain": [
       "(1, 1, 128, 128)"
      ]
     },
     "execution_count": 21,
     "metadata": {},
     "output_type": "execute_result"
    },
    {
     "data": {
      "image/png": "[encoded data removed]",
      "text/plain": [
       "<matplotlib.figure.Figure at 0x7fa43cbbf310>"
      ]
     },
     "metadata": {},
     "output_type": "display_data"
    }
   ],
   "source": [
    "fn = '../data/cg.PNG'\n",
    "fn = '../data/pp.png'\n",
    "\n",
    "pp = scipy.misc.imread(fn)\n",
    "pp = pp[:,:,0:3]\n",
    "pp = scipy.misc.imresize(pp, (128,128))\n",
    "plt.imshow(pp[:,:,0:3])\n",
    "pp = np.mean(pp, axis=2, keepdims=True)\n",
    "\n",
    "np.transpose([pp], (0, 3, 1, 2)).shape"
   ]
  },
  {
   "cell_type": "markdown",
   "metadata": {},
   "source": [
    "## the average man\n",
    "\n",
    "improve the prediction"
   ]
  },
  {
   "cell_type": "code",
   "execution_count": 27,
   "metadata": {
    "collapsed": false
   },
   "outputs": [
    {
     "data": {
      "text/plain": [
       "'this a woman'"
      ]
     },
     "execution_count": 27,
     "metadata": {},
     "output_type": "execute_result"
    }
   ],
   "source": [
    "tX = np.transpose([pp], (0, 3, 1, 2))\n",
    "'this a ' + {0 : \"man\", 1 : \"woman\"}[int(modelGender.predict(tX)>0.5)]"
   ]
  },
  {
   "cell_type": "markdown",
   "metadata": {
    "collapsed": true
   },
   "source": [
    "## Bonus\n"
   ]
  },
  {
   "cell_type": "code",
   "execution_count": 30,
   "metadata": {
    "collapsed": false
   },
   "outputs": [
    {
     "name": "stdout",
     "output_type": "stream",
     "text": [
      "(1, 32, 62, 62)\n"
     ]
    }
   ],
   "source": [
    "# get intermediate output\n",
    "layer = K.function([modelGender.layers[0].input],\n",
    "                                  [modelGender.layers[1].output])\n",
    "layer_output = layer([tX])[0]\n",
    "print layer_output.shape"
   ]
  },
  {
   "cell_type": "code",
   "execution_count": 35,
   "metadata": {
    "collapsed": false
   },
   "outputs": [
    {
     "name": "stdout",
     "output_type": "stream",
     "text": [
      "[convolution2d_2_W, convolution2d_2_b]\n"
     ]
    }
   ],
   "source": [
    "print modelGender.layers[1].weights"
   ]
  },
  {
   "cell_type": "markdown",
   "metadata": {},
   "source": [
    "## CAM\n",
    "<img src=\"http://rennsrdtacmapp05/wp01/www/assets/cam.PNG\">\n",
    "\n",
    "<img src=\"http://rennsrdtacmapp05/wp01/www/assets/cam-formulation.PNG\">\n",
    "\n",
    "\n",
    "\n",
    "\n",
    "https://jacobgil.github.io/deeplearning/class-activation-maps"
   ]
  },
  {
   "cell_type": "code",
   "execution_count": null,
   "metadata": {
    "collapsed": true
   },
   "outputs": [],
   "source": []
  }
 ],
 "metadata": {
  "anaconda-cloud": {},
  "kernelspec": {
   "display_name": "Python 2",
   "language": "python",
   "name": "python2"
  },
  "language_info": {
   "codemirror_mode": {
    "name": "ipython",
    "version": 2
   },
   "file_extension": ".py",
   "mimetype": "text/x-python",
   "name": "python",
   "nbconvert_exporter": "python",
   "pygments_lexer": "ipython2",
   "version": "2.7.11"
  }
 },
 "nbformat": 4,
 "nbformat_minor": 0
}
