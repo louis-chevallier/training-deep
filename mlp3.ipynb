{
 "cells": [
  {
   "cell_type": "markdown",
   "metadata": {},
   "source": [
    "## classifying tiny digit images with MLP from scratch"
   ]
  },
  {
   "cell_type": "markdown",
   "metadata": {},
   "source": [
    "10-class recognition problem, one hidden layer, square loss (solution of \"mlp2\")\n",
    "- implement full-batch vectorized gradient descent\n",
    "- monitor train and test error\n",
    "- compute accuracies\n",
    "- play with parameters\n",
    "- add biases\n",
    "- change to softmax laeyr with logistic loss"
   ]
  },
  {
   "cell_type": "code",
   "execution_count": 51,
   "metadata": {
    "collapsed": false
   },
   "outputs": [],
   "source": [
    "import numpy as np\n",
    "from sklearn import datasets\n",
    "import matplotlib.pyplot as plt\n",
    "\n",
    "# main parameters\n",
    "iterNum = 10000\n",
    "stepSize = 10.0\n",
    "hiddenSize = 10\n",
    "trainNum = 800\n",
    "displayFlag = True\n",
    "\n",
    "# Display plots inline \n",
    "%matplotlib inline"
   ]
  },
  {
   "cell_type": "markdown",
   "metadata": {},
   "source": [
    "bounded smooth non-linearity: \n",
    "$\\sigma(x) = \\frac{1}{1+\\exp(-x)},\\quad\\sigma'(x) = \\sigma(x)(1-\\sigma(x))$"
   ]
  },
  {
   "cell_type": "code",
   "execution_count": 43,
   "metadata": {
    "collapsed": true
   },
   "outputs": [],
   "source": [
    "# compute sigmoid\n",
    "def sigmoid(x):\n",
    "    output = 1/(1+np.exp(-x))\n",
    "    return output\n",
    "\n",
    "# convert output of sigmoid function to its derivative\n",
    "def sigmoid_output_to_derivative(output):\n",
    "    return output*(1-output)"
   ]
  },
  {
   "cell_type": "code",
   "execution_count": 44,
   "metadata": {
    "collapsed": false
   },
   "outputs": [
    {
     "name": "stdout",
     "output_type": "stream",
     "text": [
      "800 training examples and 997 test examples\n"
     ]
    }
   ],
   "source": [
    "# load and prepare dataset\n",
    "digits = datasets.load_digits()\n",
    "X_all = digits.data.T\n",
    "y = digits.target\n",
    "dataNum = X_all.shape[1]\n",
    "labels = digits.target_names\n",
    "outSize = labels.size \n",
    "inputSize = X_all.shape[0]\n",
    "\n",
    "# building gt one-hot vectors \n",
    "Y_all = np.zeros((outSize,dataNum))\n",
    "for n in range(dataNum):  \n",
    "    Y_all[y[n],n] = 1 \n",
    "\n",
    "# extract training and tet sets\n",
    "testNum = dataNum - trainNum\n",
    "X = X_all[:,:trainNum]\n",
    "Y = Y_all[:,:trainNum]\n",
    "X_test = X_all[:,trainNum:]\n",
    "Y_test = Y_all[:,trainNum:]\n",
    "print('%d training examples and %d test examples' % (trainNum,testNum))"
   ]
  },
  {
   "cell_type": "code",
   "execution_count": 45,
   "metadata": {
    "collapsed": false,
    "scrolled": true
   },
   "outputs": [],
   "source": [
    "# initialize weights randomly with mean 0\n",
    "# np.random.seed(1)\n",
    "W1 = np.random.randn(hiddenSize,inputSize)\n",
    "W2 = np.random.randn(outSize,hiddenSize)"
   ]
  },
  {
   "cell_type": "markdown",
   "metadata": {},
   "source": [
    "activation (no bias): $a_{\\ell} = Wx_{\\ell-1}$, output: $x_{\\ell} = \\sigma(a_{\\ell})$  "
   ]
  },
  {
   "cell_type": "markdown",
   "metadata": {},
   "source": [
    "square loss: $\\frac{1}{2N} \\sum_{n=1}^{N} \\|x_2^{(n)}-y^{(n)}\\|^2$"
   ]
  },
  {
   "cell_type": "code",
   "execution_count": 46,
   "metadata": {
    "collapsed": true
   },
   "outputs": [],
   "source": [
    "# compute batch loss and loss gradient  \n",
    "def loss(pred,target): \n",
    "    return 0.5 * np.sum(np.square(pred-target),0)\n",
    " \n",
    "def lossGrad(pred,target):\n",
    "    return (pred - target)"
   ]
  },
  {
   "cell_type": "code",
   "execution_count": 47,
   "metadata": {
    "collapsed": false
   },
   "outputs": [
    {
     "name": "stdout",
     "output_type": "stream",
     "text": [
      "Train/test error after 0 iterations: 1.4941 / 1.4997\n",
      "Train/test error after 1000 iterations: 0.1018 / 0.1517\n",
      "Train/test error after 2000 iterations: 0.0236 / 0.1266\n",
      "Train/test error after 3000 iterations: 0.0195 / 0.1235\n",
      "Train/test error after 4000 iterations: 0.0183 / 0.1205\n",
      "Train/test error after 5000 iterations: 0.0172 / 0.1195\n",
      "Train/test error after 6000 iterations: 0.0167 / 0.1204\n",
      "Train/test error after 7000 iterations: 0.0165 / 0.1184\n",
      "Train/test error after 8000 iterations: 0.0162 / 0.1155\n",
      "Train/test error after 9000 iterations: 0.0160 / 0.1182\n"
     ]
    }
   ],
   "source": [
    "trainError = np.zeros(iterNum)\n",
    "testError = np.zeros(iterNum)\n",
    "\n",
    "for iter in range(iterNum):\n",
    "\n",
    "    # forward propagation on training and test data\n",
    "    X0 = X\n",
    "    A1 = np.dot(W1,X0)  \n",
    "    X1 = sigmoid(A1)\n",
    "    A2 = np.dot(W2,X1)\n",
    "    X2 = sigmoid(A2)    \n",
    "    \n",
    "    # X2_test = np.zeros(Y_test.shape) # TBC \n",
    "    X2_test = sigmoid(np.dot(W2,sigmoid(np.dot(W1,X_test)))) # TBC \n",
    "    \n",
    "    # compute and print mean error on both datasets \n",
    "    trainError[iter] = np.mean(loss(X2,Y))\n",
    "    testError[iter]  = np.mean(loss(X2_test,Y_test))\n",
    "    if (iter% 1000) == 0 :\n",
    "        print(\"Train/test error after %d iterations: %.4f / %.4f\" % (iter,  trainError[iter], testError[iter]))\n",
    "   \n",
    "    # back propagation of training errors\n",
    "    G2 = lossGrad(X2,Y)\n",
    "    H2 = G2 * sigmoid_output_to_derivative(X2)\n",
    "    G1 = np.dot(W2.T,H2)\n",
    "    H1 = G1 * sigmoid_output_to_derivative(X1)\n",
    "    \n",
    "    dW1 = np.dot(H1,X0.T) / trainNum \n",
    "    dW2 = np.dot(H2,X1.T) / trainNum\n",
    "    \n",
    "    # Updating weights\n",
    "    W2 -= stepSize * dW2\n",
    "    W1 -= stepSize * dW1"
   ]
  },
  {
   "cell_type": "code",
   "execution_count": 48,
   "metadata": {
    "collapsed": false
   },
   "outputs": [
    {
     "name": "stdout",
     "output_type": "stream",
     "text": [
      "Accuracy : 0.8686\n"
     ]
    }
   ],
   "source": [
    "# test accuracy\n",
    "accuracy = float(0);\n",
    "for id in range(testNum):\n",
    "    if np.argmax(X2_test[:,id]) == np.argmax(Y_test[:,id]):\n",
    "        accuracy += 1\n",
    "accuracy = accuracy / testNum\n",
    "print('Accuracy : %.4f' % accuracy)"
   ]
  },
  {
   "cell_type": "code",
   "execution_count": 49,
   "metadata": {
    "collapsed": false
   },
   "outputs": [],
   "source": [
    "# training and test plots\n",
    "if displayFlag:\n",
    "    plt.figure(figsize=(4,4))\n",
    "    plt.plot(range(iterNum),trainError,'b',range(iterNum),testError,'r',)\n",
    "    plt.show()"
   ]
  },
  {
   "cell_type": "code",
   "execution_count": 52,
   "metadata": {
    "collapsed": false
   },
   "outputs": [
    {
     "data": {
      "image/png": "[encoded data removed]",
      "text/plain": [
       "<matplotlib.figure.Figure at 0x7fc9b4dadc10>"
      ]
     },
     "metadata": {},
     "output_type": "display_data"
    },
    {
     "name": "stdout",
     "output_type": "stream",
     "text": [
      "true: 1, predicted: 1\n"
     ]
    },
    {
     "data": {
      "image/png": "[encoded data removed]",
      "text/plain": [
       "<matplotlib.figure.Figure at 0x7fc9b5217410>"
      ]
     },
     "metadata": {},
     "output_type": "display_data"
    },
    {
     "name": "stdout",
     "output_type": "stream",
     "text": [
      "true: 7, predicted: 7\n"
     ]
    },
    {
     "data": {
      "image/png": "[encoded data removed]",
      "text/plain": [
       "<matplotlib.figure.Figure at 0x7fc9b4d46050>"
      ]
     },
     "metadata": {},
     "output_type": "display_data"
    },
    {
     "name": "stdout",
     "output_type": "stream",
     "text": [
      "true: 8, predicted: 8\n"
     ]
    },
    {
     "data": {
      "image/png": "[encoded data removed]",
      "text/plain": [
       "<matplotlib.figure.Figure at 0x7fc9b4e464d0>"
      ]
     },
     "metadata": {},
     "output_type": "display_data"
    },
    {
     "name": "stdout",
     "output_type": "stream",
     "text": [
      "true: 1, predicted: 1\n"
     ]
    },
    {
     "data": {
      "image/png": "[encoded data removed]",
      "text/plain": [
       "<matplotlib.figure.Figure at 0x7fc9b5164a50>"
      ]
     },
     "metadata": {},
     "output_type": "display_data"
    },
    {
     "name": "stdout",
     "output_type": "stream",
     "text": [
      "true: 6, predicted: 6\n"
     ]
    },
    {
     "data": {
      "image/png": "[encoded data removed]",
      "text/plain": [
       "<matplotlib.figure.Figure at 0x7fc9b4d3d710>"
      ]
     },
     "metadata": {},
     "output_type": "display_data"
    },
    {
     "name": "stdout",
     "output_type": "stream",
     "text": [
      "true: 0, predicted: 0\n"
     ]
    },
    {
     "data": {
      "image/png": "[encoded data removed]",
      "text/plain": [
       "<matplotlib.figure.Figure at 0x7fc9b4e8dc50>"
      ]
     },
     "metadata": {},
     "output_type": "display_data"
    },
    {
     "name": "stdout",
     "output_type": "stream",
     "text": [
      "true: 6, predicted: 6\n"
     ]
    },
    {
     "data": {
      "image/png": "[encoded data removed]",
      "text/plain": [
       "<matplotlib.figure.Figure at 0x7fc9b5062f50>"
      ]
     },
     "metadata": {},
     "output_type": "display_data"
    },
    {
     "name": "stdout",
     "output_type": "stream",
     "text": [
      "true: 1, predicted: 1\n"
     ]
    },
    {
     "data": {
      "image/png": "[encoded data removed]",
      "text/plain": [
       "<matplotlib.figure.Figure at 0x7fc9b5210d10>"
      ]
     },
     "metadata": {},
     "output_type": "display_data"
    },
    {
     "name": "stdout",
     "output_type": "stream",
     "text": [
      "true: 8, predicted: 8\n"
     ]
    },
    {
     "data": {
      "image/png": "[encoded data removed]",
      "text/plain": [
       "<matplotlib.figure.Figure at 0x7fc9b4f029d0>"
      ]
     },
     "metadata": {},
     "output_type": "display_data"
    },
    {
     "name": "stdout",
     "output_type": "stream",
     "text": [
      "true: 6, predicted: 6\n"
     ]
    },
    {
     "data": {
      "image/png": "[encoded data removed]",
      "text/plain": [
       "<matplotlib.figure.Figure at 0x7fc9b5267690>"
      ]
     },
     "metadata": {},
     "output_type": "display_data"
    },
    {
     "name": "stdout",
     "output_type": "stream",
     "text": [
      "true: 2, predicted: 2\n"
     ]
    },
    {
     "data": {
      "image/png": "[encoded data removed]",
      "text/plain": [
       "<matplotlib.figure.Figure at 0x7fc9b5104550>"
      ]
     },
     "metadata": {},
     "output_type": "display_data"
    },
    {
     "name": "stdout",
     "output_type": "stream",
     "text": [
      "true: 0, predicted: 0\n"
     ]
    },
    {
     "data": {
      "image/png": "[encoded data removed]",
      "text/plain": [
       "<matplotlib.figure.Figure at 0x7fc9b4ee1110>"
      ]
     },
     "metadata": {},
     "output_type": "display_data"
    },
    {
     "name": "stdout",
     "output_type": "stream",
     "text": [
      "true: 7, predicted: 7\n"
     ]
    },
    {
     "data": {
      "image/png": "[encoded data removed]",
      "text/plain": [
       "<matplotlib.figure.Figure at 0x7fc9b5211ed0>"
      ]
     },
     "metadata": {},
     "output_type": "display_data"
    },
    {
     "name": "stdout",
     "output_type": "stream",
     "text": [
      "true: 7, predicted: 7\n"
     ]
    },
    {
     "data": {
      "image/png": "[encoded data removed]",
      "text/plain": [
       "<matplotlib.figure.Figure at 0x7fc9b4e46a10>"
      ]
     },
     "metadata": {},
     "output_type": "display_data"
    },
    {
     "name": "stdout",
     "output_type": "stream",
     "text": [
      "true: 4, predicted: 8\n"
     ]
    },
    {
     "data": {
      "image/png": "[encoded data removed]",
      "text/plain": [
       "<matplotlib.figure.Figure at 0x7fcb30390910>"
      ]
     },
     "metadata": {},
     "output_type": "display_data"
    },
    {
     "name": "stdout",
     "output_type": "stream",
     "text": [
      "true: 5, predicted: 5\n"
     ]
    },
    {
     "data": {
      "image/png": "[encoded data removed]",
      "text/plain": [
       "<matplotlib.figure.Figure at 0x7fc9b53028d0>"
      ]
     },
     "metadata": {},
     "output_type": "display_data"
    },
    {
     "name": "stdout",
     "output_type": "stream",
     "text": [
      "true: 3, predicted: 3\n"
     ]
    },
    {
     "data": {
      "image/png": "[encoded data removed]",
      "text/plain": [
       "<matplotlib.figure.Figure at 0x7fc9b4d9bdd0>"
      ]
     },
     "metadata": {},
     "output_type": "display_data"
    },
    {
     "name": "stdout",
     "output_type": "stream",
     "text": [
      "true: 8, predicted: 8\n"
     ]
    },
    {
     "data": {
      "image/png": "[encoded data removed]",
      "text/plain": [
       "<matplotlib.figure.Figure at 0x7fc9b52cdb10>"
      ]
     },
     "metadata": {},
     "output_type": "display_data"
    },
    {
     "name": "stdout",
     "output_type": "stream",
     "text": [
      "true: 1, predicted: 1\n"
     ]
    },
    {
     "data": {
      "image/png": "[encoded data removed]",
      "text/plain": [
       "<matplotlib.figure.Figure at 0x7fc9b4c9ce90>"
      ]
     },
     "metadata": {},
     "output_type": "display_data"
    },
    {
     "name": "stdout",
     "output_type": "stream",
     "text": [
      "true: 5, predicted: 8\n"
     ]
    }
   ],
   "source": [
    "# visualize randomly picked test predictions\n",
    "if displayFlag:\n",
    "    sampleId = np.random.randint(0,testNum,20)\n",
    "    for id in sampleId:\n",
    "        if np.argmax(X2_test[:,id]) != y[id+trainNum] :\n",
    "            colormap = 'hot'\n",
    "        else: \n",
    "            colormap = 'gray'\n",
    "        plt.figure(figsize=(1,1))\n",
    "        plt.imshow(digits.images[id+trainNum],interpolation='none',cmap=colormap)\n",
    "        plt.axis('off')\n",
    "        plt.show()\n",
    "        print('true: %d, predicted: %d' % (np.argmax(X2_test[:,id]) , y[id+trainNum]))"
   ]
  }
 ],
 "metadata": {
  "anaconda-cloud": {},
  "kernelspec": {
   "display_name": "Python [default]",
   "language": "python",
   "name": "python2"
  },
  "language_info": {
   "codemirror_mode": {
    "name": "ipython",
    "version": 2
   },
   "file_extension": ".py",
   "mimetype": "text/x-python",
   "name": "python",
   "nbconvert_exporter": "python",
   "pygments_lexer": "ipython2",
   "version": "2.7.12"
  }
 },
 "nbformat": 4,
 "nbformat_minor": 1
}
