{
 "cells": [
  {
   "cell_type": "code",
   "execution_count": 1,
   "metadata": {},
   "outputs": [
    {
     "name": "stderr",
     "output_type": "stream",
     "text": [
      "Using TensorFlow backend.\n"
     ]
    }
   ],
   "source": [
    "from __future__ import print_function\n",
    "\n",
    "import keras\n",
    "import keras.backend as K\n",
    "from keras.preprocessing import sequence\n",
    "from keras.models import Sequential\n",
    "from keras.layers import Dense, Embedding, LSTM, Bidirectional\n",
    "from keras.datasets import imdb\n",
    "import tensorflow as tf\n",
    "from tensorflow.python import debug as tf_debug\n",
    "from random import randint\n",
    "from keras import metrics\n",
    "\n",
    "#K.set_session(tf_debug.LocalCLIDebugWrapperSession(tf.Session()))\n",
    "\n",
    "from keras.models import Sequential\n",
    "from keras import layers\n",
    "import numpy as np\n",
    "from six.moves import range\n",
    "import sklearn\n",
    "from sklearn.preprocessing import OneHotEncoder\n",
    "from sklearn.utils import shuffle\n",
    "import parser\n",
    "import matplotlib.pyplot as plt\n",
    "%matplotlib inline  "
   ]
  },
  {
   "cell_type": "code",
   "execution_count": 2,
   "metadata": {},
   "outputs": [
    {
     "name": "stdout",
     "output_type": "stream",
     "text": [
      "[(0)+({00})]+0\n"
     ]
    }
   ],
   "source": [
    "def gen_expression(n, well_balanced=True) :\n",
    "    # make a well formed expression of length n\n",
    "    p_pairs = [ '()', '{}', '[]']\n",
    "    pair = p_pairs[randint(0,len(p_pairs)-1)]\n",
    "    oc, cc = tuple(list(pair))\n",
    "    if well_balanced :\n",
    "        c = int(np.random.random() * 3.)\n",
    "        digit = lambda _ : list(\"0\")[int(randint(0,1))]\n",
    "        digit = lambda _ : \"0\" #list(\"0\")[int(np.random.random()*2.)]\n",
    "        if n <= 2:\n",
    "            res = ''.join([digit(n) for i in range(n)])\n",
    "        else :\n",
    "            if np.random.random() > 0.5 :\n",
    "                l = randint(1, n-2)\n",
    "                #l = int((n-2) * np.random.random())+1\n",
    "                res1 = gen_expression(l, well_balanced)\n",
    "                res = res1 + \"+\" + gen_expression(n-len(res1)-1, well_balanced)\n",
    "                #EKOX((n, l, len(res1), res1, n-len(res1)-1, len(res), res))\n",
    "\n",
    "                #sys.exit(0)\n",
    "                \n",
    "            else :\n",
    "                res = oc + gen_expression(n-2, well_balanced) + cc\n",
    "                \n",
    "    else :\n",
    "        h = lambda x : list(\"01()+\")[int(np.random.random()*5.)]\n",
    "        return ''.join([ h(n) for i in range(n)])\n",
    "    return res\n",
    "\n",
    "def gen_expression1(n) :\n",
    "    # variation\n",
    "    if n <= 2:\n",
    "         res = '()'\n",
    "    else :\n",
    "        if np.random.random() > 0.5 :\n",
    "            l = randint(1, (n-2)/2)*2\n",
    "            res1 = gen_expression1(l)\n",
    "            res = res1 + gen_expression1(n-len(res1))\n",
    "        else :\n",
    "            res = '(' + gen_expression1(n-2) + ')'\n",
    "    return res\n",
    "\n",
    "\n",
    "e = gen_expression(14)\n",
    "print(e)"
   ]
  },
  {
   "cell_type": "code",
   "execution_count": 3,
   "metadata": {},
   "outputs": [
    {
     "name": "stdout",
     "output_type": "stream",
     "text": [
      "[(0)+({00})]+0\n",
      "[(0)+){00}(]+0\n"
     ]
    }
   ],
   "source": [
    "def EKOX(x) :print(x)\n",
    "    \n",
    "def disturb(e) :\n",
    "    ## from a correct expression, makes a wrong one\n",
    "    #return ''.join(shuffle(e))\n",
    "    def ccc(c) :\n",
    "        ef = [n for n in xrange(len(e)) if e.find(c, n) == n]\n",
    "        i = min(int(np.random.random()*len(ef)), len(ef)-1)\n",
    "        return ef[i]\n",
    "    le = list(e)        \n",
    "    try :\n",
    "        io, ic = ccc('('), ccc(')')\n",
    "        le[io] = ')'\n",
    "        le[ic] = '('\n",
    "    except Exception as ex:\n",
    "        pass\n",
    "    return ''.join(le)\n",
    "\n",
    "\n",
    "EKOX(e)\n",
    "EKOX(disturb(e))\n",
    "#sys.exit(0)\n",
    "\n",
    "\n",
    "D = 80\n",
    "X,y = [], []\n",
    "N = 50000\n",
    "import sympy"
   ]
  },
  {
   "cell_type": "markdown",
   "metadata": {},
   "source": [
    "The number of well balanced parenthised expressions of length D is the number of catalan"
   ]
  },
  {
   "cell_type": "code",
   "execution_count": 4,
   "metadata": {},
   "outputs": [
    {
     "name": "stdout",
     "output_type": "stream",
     "text": [
      "1136359577947336271931632877004667456667613940\n"
     ]
    }
   ],
   "source": [
    "EKOX(sympy.functions.combinatorial.numbers.catalan(D))"
   ]
  },
  {
   "cell_type": "markdown",
   "metadata": {},
   "source": [
    "preparing the data"
   ]
  },
  {
   "cell_type": "code",
   "execution_count": 5,
   "metadata": {},
   "outputs": [
    {
     "name": "stdout",
     "output_type": "stream",
     "text": [
      "[[ 1.  0.  0.  0.  0.  0.  0.  0.  0.]\n",
      " [ 0.  1.  0.  0.  0.  0.  0.  0.  0.]\n",
      " [ 0.  0.  1.  0.  0.  0.  0.  0.  0.]\n",
      " [ 0.  0.  0.  1.  0.  0.  0.  0.  0.]\n",
      " [ 0.  0.  0.  0.  1.  0.  0.  0.  0.]\n",
      " [ 0.  0.  0.  0.  0.  1.  0.  0.  0.]\n",
      " [ 0.  0.  0.  0.  0.  0.  1.  0.  0.]\n",
      " [ 0.  0.  0.  0.  0.  0.  0.  1.  0.]\n",
      " [ 0.  0.  0.  0.  0.  0.  0.  0.  1.]]\n",
      "[')', '(', '+', '}', '1', '0', '[', ']', '{']\n",
      "[array([ 0.,  0.,  0.,  0.,  1.,  0.,  0.,  0.,  0.]), array([ 0.,  0.,  0.,  1.,  0.,  0.,  0.,  0.,  0.]), array([ 0.,  0.,  1.,  0.,  0.,  0.,  0.,  0.,  0.]), array([ 0.,  0.,  0.,  0.,  0.,  0.,  0.,  0.,  1.]), array([ 0.,  1.,  0.,  0.,  0.,  0.,  0.,  0.,  0.]), array([ 1.,  0.,  0.,  0.,  0.,  0.,  0.,  0.,  0.]), array([ 0.,  0.,  0.,  0.,  0.,  1.,  0.,  0.,  0.]), array([ 0.,  0.,  0.,  0.,  0.,  0.,  1.,  0.,  0.]), array([ 0.,  0.,  0.,  0.,  0.,  0.,  0.,  1.,  0.])]\n",
      "\n",
      "list#100000(list#80(ndarray#(9,)(float64)))\n",
      "\n",
      "ndarray#(100000, 80, 9)(float64)\n",
      "0.5\n",
      "\n",
      "ndarray#(100000,)(float64)\n",
      "0.5\n",
      "(True, '{{[0]}+([00])+{0}+0+0+0+0}+{00+([00+(00)]+{0+00}+(([(0+(00)+0)+0+[{(00)+0}]])))}')\n",
      "(False, '{{00+0}+0}+00+00+0+0+00+00+00+0+0+0+[{0}+0+0+00+{0}]+)(0+0)+{0+0+00}+[00]+0+0+0(')\n",
      "(True, '([00+([[(00+0+0)]]+00)+(0+0)+0+00]+[{[({{[{00+00+00+00}]}})]+{{(0+0)}}}+(0+00)])')\n",
      "(False, '{00+0}+(00+0+({0+0+0+0}+[[[)00+0+0)]+00+0+0+0]]+{0}))+[({{00+{[{0}]}}}+{0}+(0()]')\n",
      "(False, '[{(0+0+0+[00]+{{((({0+0+)00)}+[00+{0+0}+00])()}}+{0+{{[0]}}+0+[{{{[{00}]}}}]})}]')\n",
      "(True, '0+[00]+0+0+([[0]+0])+[{[{({[00]})+{00+{[0]}+00}+[0]+0+00+00+00+00}+0+0+[0]+00]}]')\n",
      "(False, '({0+[0+0]+(0)+0+)[0+0+00])+({{{[(({[0+0+{(0)}+00]}+00+0+0()]}+0+0+0+(0+{0})}})})')\n",
      "(True, '[00]+0+00+0+{[{0}]+(0)}+{{00+0+([[[[00+0]]+(0+0+00+00+0+00+0+0+00)]])+(0+0+00)}}')\n",
      "(True, '{0}+{0+{0}}+0+0+[0+0]+[00]+{(([{{0}+{00+{0}}}+0])+[0]+(00))}+[[{{{[0]+00}}}]+00]')\n",
      "(True, '00+(({0})+0+{00})+[[00+00]]+00+{({00+(0)+0})}+{[00]}+00+0+00+0+{[{{0+0}+0+0+0}]}')\n",
      "(True, '{[{00+(0+00)+{0}}+{0+0}+0+00+{00+00+0+0}+{[0+0+{0}]+{0+{0}+00+00+0+00}+0+0+00}]}')\n",
      "(True, '[((([0+00])+{{00+(0+[{(([0]))}+00])}})+[{{0+0}+{0+{00}}+(0)+00+00+0+[0+0]}])]+00')\n",
      "(True, '{{0}}+[00+0]+(0+00)+0+0+0+00+{[{(00)}+[00+0+0]+[0+{00}+0+00+00+{{00}}]]+[[0+0]]}')\n",
      "(False, '({0+[0]}+[{[00+{{00}}+{0+0+)00)}+(0+0+0+[00]+[0](+0+0+00]}+{0+(0)}])+0+00+00+0+0')\n",
      "(False, '[(0+0+([){00+{0}+00+00+00+((({[{0+0+00+{00}}+0+0+0+00+0]})))}+0+0)+({00}+00(]))]')\n",
      "(True, '{00+({[0+0+0]}+0)+{(({0+0}))}+{00+0}+[(0)]+0+[{0+0}]+00+0+({0+0+0+0}+00)+0+00+0}')\n",
      "(True, '(0+(0)+([00])+(0+0+(0+0+[00]))+{((((0+0+00)+0+0+{[0+0]}+{(0)})))}+[0+0]+0+0+0+0)')\n",
      "(False, '(){({0+({0+(0+00+0)})})}+{0}+00+([00])+00+0+[((0+{00}+{00}+[0+[0]]))]()+0+0+(00)')\n",
      "(False, '[(0+0+00+0+{[00+0+0+0]+{{00}}+00}(]+[([00])+00+[00+[[(00)]]+00+00+[0]]+)00+0+0)]')\n",
      "(True, '00+[0]+0+([00+0+0+00+00+00]+[[[{00+0+[{00}]}]]]+[(0)]+0+0+((0+00))+(((0)+00))+0)')\n",
      "('{{[0]}+([00])+{0}+0+0+0+0}+{00+([00+(00)]+{0+00}+(([(0+(00)+0)+0+[{(00)+0}]])))}', 1.0)\n"
     ]
    }
   ],
   "source": [
    "chars = \"01+()[]{}\"\n",
    "nchars = len(chars)\n",
    "EKOX(np.eye(nchars))\n",
    "table = dict(zip(chars, np.eye(len(chars))))\n",
    "tablei = dict(zip(map(str, list(np.eye(len(chars)))), chars))\n",
    "EKOX(table.keys())\n",
    "EKOX(table.values())\n",
    "tablemap = lambda x : table[x]\n",
    "\n",
    "for t in [True, False] :\n",
    "    for i in range(N) :\n",
    "        ee = gen_expression(D, True)\n",
    "        cc = list(\"()\")[int(np.random.random()*2)]\n",
    "        if not t :\n",
    "            ee = disturb(ee)\n",
    "#        EKOX((t, ee))\n",
    "        g = map(tablemap, list(ee))\n",
    "        assert(len(g) == D)\n",
    "            \n",
    "        X.append(g)\n",
    "        y.append(t)\n",
    "EKOX(TYPE(X))\n",
    "X = np.asarray(X)\n",
    "EKOX(TYPE(X))\n",
    "y = np.asarray(y)*1.\n",
    "\n",
    "dec2 = lambda x : map(str, x)\n",
    "dec1 = lambda x : tablei[x]\n",
    "dec = lambda x : ''.join(map(dec1, dec2(x)))\n",
    "\n",
    "#EKOX(map(dec, X[:10,:,:]))\n",
    "\n",
    "\n",
    "EKOX(y.mean())\n",
    "EKOX(TYPE(y))\n",
    "X, y = shuffle(X, y)\n",
    "N=X.shape[0]\n",
    "EKOX(y.mean())\n",
    "Xtrain, Xval, ytrain, yval = X[N/3:], X[:N/3], y[N/3:], y[:N/3]\n",
    "\n",
    "EKOX('\\n'.join(map(str,zip(ytrain[0:20] > 0.5, map(dec, Xtrain[0:20])))))\n",
    "\n",
    "EKOX((dec(Xtrain[0]), ytrain[0]))\n",
    "RNN = layers.LSTM\n",
    "HIDDEN_SIZE = 128\n",
    "BATCH_SIZE = 128\n",
    "LAYERS = 1"
   ]
  },
  {
   "cell_type": "markdown",
   "metadata": {},
   "source": [
    "this model with 600 000+ coef gives 95% accuracy\n",
    "even with more conv/dense layers, more epochs ..."
   ]
  },
  {
   "cell_type": "code",
   "execution_count": 6,
   "metadata": {},
   "outputs": [
    {
     "name": "stdout",
     "output_type": "stream",
     "text": [
      "_________________________________________________________________\n",
      "Layer (type)                 Output Shape              Param #   \n",
      "=================================================================\n",
      "conv1d_1 (Conv1D)            (None, 76, 32)            1472      \n",
      "_________________________________________________________________\n",
      "conv1d_2 (Conv1D)            (None, 72, 32)            5152      \n",
      "_________________________________________________________________\n",
      "conv1d_3 (Conv1D)            (None, 68, 32)            5152      \n",
      "_________________________________________________________________\n",
      "conv1d_4 (Conv1D)            (None, 64, 32)            5152      \n",
      "_________________________________________________________________\n",
      "flatten_1 (Flatten)          (None, 2048)              0         \n",
      "_________________________________________________________________\n",
      "dense_1 (Dense)              (None, 50)                102450    \n",
      "_________________________________________________________________\n",
      "dense_2 (Dense)              (None, 500)               25500     \n",
      "_________________________________________________________________\n",
      "dense_3 (Dense)              (None, 500)               250500    \n",
      "_________________________________________________________________\n",
      "dense_4 (Dense)              (None, 500)               250500    \n",
      "_________________________________________________________________\n",
      "dense_5 (Dense)              (None, 1)                 501       \n",
      "=================================================================\n",
      "Total params: 646,379\n",
      "Trainable params: 646,379\n",
      "Non-trainable params: 0\n",
      "_________________________________________________________________\n"
     ]
    }
   ],
   "source": [
    "model = Sequential()\n",
    "\n",
    "model.add(layers.Conv1D(32, 5, input_shape=(D, len(chars))))\n",
    "model.add(layers.Conv1D(32, 5))\n",
    "model.add(layers.Conv1D(32, 5))\n",
    "model.add(layers.Conv1D(32, 5))\n",
    "model.add(layers.Flatten())\n",
    "\n",
    "\n",
    "#model.add(RNN(HIDDEN_SIZE, input_shape=(D, len(chars))))\n",
    "# of the output sequence, decide which character should be chosen.\n",
    "model.add(layers.Dense(50))\n",
    "model.add(layers.Dense(500))\n",
    "model.add(layers.Dense(500))\n",
    "model.add(layers.Dense(500))\n",
    "model.add(layers.Dense(1, activation='sigmoid')) # 95%\n",
    "model.summary()"
   ]
  },
  {
   "cell_type": "code",
   "execution_count": 9,
   "metadata": {},
   "outputs": [
    {
     "name": "stdout",
     "output_type": "stream",
     "text": [
      "Train on 46666 samples, validate on 20001 samples\n",
      "Epoch 1/10\n",
      "46666/46666 [==============================] - 5s - loss: 0.6044 - acc: 0.6478 - val_loss: 0.6073 - val_acc: 0.6561\n",
      "Epoch 2/10\n",
      "46666/46666 [==============================] - 4s - loss: 0.6026 - acc: 0.6492 - val_loss: 0.6020 - val_acc: 0.6552\n",
      "Epoch 3/10\n",
      "46666/46666 [==============================] - 5s - loss: 0.6005 - acc: 0.6522 - val_loss: 0.6020 - val_acc: 0.6541\n",
      "Epoch 4/10\n",
      "46666/46666 [==============================] - 4s - loss: 0.6006 - acc: 0.6502 - val_loss: 0.5991 - val_acc: 0.6567\n",
      "Epoch 5/10\n",
      "46666/46666 [==============================] - 4s - loss: 0.6000 - acc: 0.6520 - val_loss: 0.6105 - val_acc: 0.6611\n",
      "Epoch 6/10\n",
      "46666/46666 [==============================] - 4s - loss: 0.6005 - acc: 0.6516 - val_loss: 0.6040 - val_acc: 0.6455\n",
      "Epoch 7/10\n",
      "46666/46666 [==============================] - 4s - loss: 0.5987 - acc: 0.6560 - val_loss: 0.5987 - val_acc: 0.6616\n",
      "Epoch 8/10\n",
      "46666/46666 [==============================] - 5s - loss: 0.5983 - acc: 0.6539 - val_loss: 0.6021 - val_acc: 0.6387\n",
      "Epoch 9/10\n",
      "46666/46666 [==============================] - 5s - loss: 0.5999 - acc: 0.6512 - val_loss: 0.6004 - val_acc: 0.6554\n",
      "Epoch 10/10\n",
      "46666/46666 [==============================] - 5s - loss: 0.5989 - acc: 0.6548 - val_loss: 0.6014 - val_acc: 0.6607\n"
     ]
    }
   ],
   "source": [
    "model.compile(loss='binary_crossentropy',\n",
    "              optimizer='adam',\n",
    "              metrics=['accuracy'])\n",
    "hist1 = model.fit(Xtrain, ytrain,\n",
    "          batch_size=BATCH_SIZE,\n",
    "          epochs=10,\n",
    "          validation_split=0.3,\n",
    "          callbacks = cb)"
   ]
  },
  {
   "cell_type": "code",
   "execution_count": 12,
   "metadata": {
    "collapsed": true
   },
   "outputs": [
    {
     "data": {
      "text/plain": [
       "{'acc': [0.62771611018927376,\n",
       "  0.81926884667992828,\n",
       "  0.94199202845754937,\n",
       "  0.98945699226829154,\n",
       "  0.96976385378211216,\n",
       "  0.99616423091758455,\n",
       "  0.99877855397934256,\n",
       "  0.99710710153002191,\n",
       "  0.99879998285689797,\n",
       "  0.99909998715544612],\n",
       " 'loss': [0.63340232208334757,\n",
       "  0.3975734114123235,\n",
       "  0.15707718740507046,\n",
       "  0.037607589771625691,\n",
       "  0.10511845589975392,\n",
       "  0.018340665449515691,\n",
       "  0.0086340327462057637,\n",
       "  0.014753299631016806,\n",
       "  0.0073922589657944683,\n",
       "  0.0059427309720483405],\n",
       " 'val_acc': [0.72706364679977864,\n",
       "  0.89755512228560896,\n",
       "  0.98890055497225138,\n",
       "  0.98670066496675168,\n",
       "  0.99710014499275035,\n",
       "  0.99840007999600022,\n",
       "  0.99865006749662522,\n",
       "  0.99775011249437529,\n",
       "  0.99895005249737512,\n",
       "  0.9989000549972501],\n",
       " 'val_loss': [0.5474790795034995,\n",
       "  0.25741850260996613,\n",
       "  0.047619938951166896,\n",
       "  0.041586645347511886,\n",
       "  0.015133181798400955,\n",
       "  0.010253836294711284,\n",
       "  0.0079616393685607405,\n",
       "  0.012567073547445556,\n",
       "  0.006651408722002137,\n",
       "  0.0060666094109996004]}"
      ]
     },
     "execution_count": 12,
     "metadata": {},
     "output_type": "execute_result"
    }
   ],
   "source": [
    "hist.history"
   ]
  },
  {
   "cell_type": "markdown",
   "metadata": {},
   "source": [
    "with this one 0.9999% , only 3800 coefs."
   ]
  },
  {
   "cell_type": "code",
   "execution_count": 10,
   "metadata": {},
   "outputs": [
    {
     "name": "stdout",
     "output_type": "stream",
     "text": [
      "_________________________________________________________________\n",
      "Layer (type)                 Output Shape              Param #   \n",
      "=================================================================\n",
      "bidirectional_1 (Bidirection (None, 32)                3328      \n",
      "_________________________________________________________________\n",
      "dense_6 (Dense)              (None, 16)                528       \n",
      "_________________________________________________________________\n",
      "dense_7 (Dense)              (None, 1)                 17        \n",
      "=================================================================\n",
      "Total params: 3,873\n",
      "Trainable params: 3,873\n",
      "Non-trainable params: 0\n",
      "_________________________________________________________________\n"
     ]
    }
   ],
   "source": [
    "model = Sequential()\n",
    "#model.add(layers.SimpleRNN(32, input_shape=(D, len(chars))))\n",
    "#model.add(LSTM(16, input_shape=(D, len(chars))))\n",
    "model.add(Bidirectional(LSTM(16), input_shape=(D, len(chars))))\n",
    "# of the output sequence, decide which character should be chosen.\n",
    "model.add(layers.Dense(16))\n",
    "model.add(layers.Dense(1, activation='sigmoid'))\n",
    "\n",
    "model.compile(loss='binary_crossentropy',\n",
    "              optimizer='adam',\n",
    "              metrics=['accuracy'])\n",
    "model.summary()"
   ]
  },
  {
   "cell_type": "code",
   "execution_count": 11,
   "metadata": {},
   "outputs": [
    {
     "name": "stdout",
     "output_type": "stream",
     "text": [
      "Train on 46666 samples, validate on 20001 samples\n",
      "Epoch 1/10\n",
      "46666/46666 [==============================] - 37s - loss: 0.6219 - acc: 0.6425 - val_loss: 0.5095 - val_acc: 0.7642\n",
      "Epoch 2/10\n",
      "46666/46666 [==============================] - 36s - loss: 0.3794 - acc: 0.8308 - val_loss: 0.2470 - val_acc: 0.8970\n",
      "Epoch 3/10\n",
      "46666/46666 [==============================] - 35s - loss: 0.1302 - acc: 0.9549 - val_loss: 0.0801 - val_acc: 0.9705\n",
      "Epoch 4/10\n",
      "46666/46666 [==============================] - 35s - loss: 0.0370 - acc: 0.9906 - val_loss: 0.0289 - val_acc: 0.9921\n",
      "Epoch 5/10\n",
      "46666/46666 [==============================] - 35s - loss: 0.0213 - acc: 0.9947 - val_loss: 0.0925 - val_acc: 0.9664\n",
      "Epoch 6/10\n",
      "46666/46666 [==============================] - 36s - loss: 0.0333 - acc: 0.9910 - val_loss: 0.0304 - val_acc: 0.9903\n",
      "Epoch 7/10\n",
      "46666/46666 [==============================] - 37s - loss: 0.0150 - acc: 0.9963 - val_loss: 0.0105 - val_acc: 0.9979\n",
      "Epoch 8/10\n",
      "46666/46666 [==============================] - 38s - loss: 0.0110 - acc: 0.9972 - val_loss: 0.0044 - val_acc: 0.9991\n",
      "Epoch 9/10\n",
      "46666/46666 [==============================] - 38s - loss: 0.0063 - acc: 0.9982 - val_loss: 0.0075 - val_acc: 0.9978\n",
      "Epoch 10/10\n",
      "46666/46666 [==============================] - 38s - loss: 0.0072 - acc: 0.9978 - val_loss: 0.0035 - val_acc: 0.9991\n"
     ]
    },
    {
     "data": {
      "text/plain": [
       "<keras.callbacks.History at 0x7f7e67992cd0>"
      ]
     },
     "execution_count": 11,
     "metadata": {},
     "output_type": "execute_result"
    }
   ],
   "source": [
    "\"\"\"\n",
    "sess = K.get_session()\n",
    "sess = tf_debug.LocalCLIDebugWrapperSession(sess)\n",
    "K.set_session(sess)\n",
    "\"\"\"\n",
    "cb = [\n",
    "    keras.callbacks.TensorBoard(log_dir='./logs',\n",
    "                                histogram_freq=0,\n",
    "                                batch_size=32,\n",
    "                                write_graph=True,\n",
    "                                write_grads=True,\n",
    "                                write_images=True,\n",
    "                                embeddings_freq=0,\n",
    "                                embeddings_layer_names=None,\n",
    "                                embeddings_metadata=None)\n",
    "]\n",
    "hist1 = model.fit(Xtrain, ytrain,\n",
    "          batch_size=BATCH_SIZE,\n",
    "          epochs=10,\n",
    "          validation_split=0.3,\n",
    "          callbacks = cb)\n",
    "\n",
    "hist"
   ]
  },
  {
   "cell_type": "code",
   "execution_count": 12,
   "metadata": {},
   "outputs": [
    {
     "data": {
      "text/plain": [
       "[<matplotlib.lines.Line2D at 0x7f7e695a4890>,\n",
       " <matplotlib.lines.Line2D at 0x7f7c7c0c8f50>]"
      ]
     },
     "execution_count": 12,
     "metadata": {},
     "output_type": "execute_result"
    },
    {
     "data": {
      "image/png": "[encoded data removed]",
      "text/plain": [
       "<matplotlib.figure.Figure at 0x7f7e679921d0>"
      ]
     },
     "metadata": {},
     "output_type": "display_data"
    }
   ],
   "source": [
    "plt.plot(np.arange(10), hist.history['val_acc'], hist1.history['val_acc'])\n"
   ]
  },
  {
   "cell_type": "code",
   "execution_count": null,
   "metadata": {
    "collapsed": true
   },
   "outputs": [],
   "source": [
    "p = model.predict(Xval)[:,0]\n",
    "p = p > 0.5\n",
    "EKOX(p.shape)\n",
    "EKOX(TYPE(y))\n",
    "pyval= yval>0.5\n",
    "EKOX((p != yval).mean())\n",
    "diff = (p != pyval)[0:20]\n",
    "EKOX(np.mean(diff))\n",
    "EKOX('\\n'.join(map(str,zip(p[diff], pyval[diff], map(dec, Xval[diff])))))\n",
    "EKOX(parser.yacc.parse('0+0'))\n",
    "\n",
    "EKOX(parser.yacc.parse(map(dec, Xval[diff])[0]))\n",
    "EKOX(map(dec, Xval[diff])[0])\n",
    "EKOX(diff)\n",
    "oa = Xval[diff][0]\n",
    "\n",
    "\n",
    "EKOX(model.predict(np.asarray([oa])))\n",
    "EKOX(TYPE(oa))\n",
    "target          = [[0]]\n",
    "target_variable = K.variable(target)\n",
    "loss            = metrics.binary_crossentropy(model.output, target_variable)\n",
    "gradients       = K.gradients(loss, model.input)\n",
    "get_grad_values = K.function([model.input], gradients) # symbolic function which compute the gradient on the input image\n",
    "grad_values     = get_grad_values([[oa]])[0]\n",
    "EKOX(TYPE(grad_values))\n",
    "EKOX(grad_values)\n",
    "EKOX(np.mean(grad_values, axis=2))\n",
    "\n",
    "\n",
    "target          = [[1]]\n",
    "target_variable = K.variable(target)\n",
    "loss            = metrics.binary_crossentropy(model.output, target_variable)\n",
    "gradients       = K.gradients(loss, model.input)\n",
    "get_grad_values = K.function([model.input], gradients) # symbolic function which compute the gradient on the input image\n",
    "grad_values     = get_grad_values([[oa]])[0]\n",
    "EKOX(TYPE(grad_values))\n",
    "EKOX(grad_values)\n",
    "EKOX(np.mean(grad_values, axis=2))"
   ]
  }
 ],
 "metadata": {
  "anaconda-cloud": {},
  "kernelspec": {
   "display_name": "Python [conda env:deep-training]",
   "language": "python",
   "name": "conda-env-deep-training-py"
  },
  "language_info": {
   "codemirror_mode": {
    "name": "ipython",
    "version": 2
   },
   "file_extension": ".py",
   "mimetype": "text/x-python",
   "name": "python",
   "nbconvert_exporter": "python",
   "pygments_lexer": "ipython2",
   "version": "2.7.14"
  }
 },
 "nbformat": 4,
 "nbformat_minor": 2
}
