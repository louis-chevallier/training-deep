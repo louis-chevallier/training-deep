{
 "cells": [
  {
   "cell_type": "code",
   "execution_count": 11,
   "metadata": {
    "collapsed": false
   },
   "outputs": [],
   "source": [
    "\"\"\"A multi-layer perceptron for classification of MNIST handwritten digits.\"\"\"\n",
    "from __future__ import absolute_import, division\n",
    "from __future__ import print_function\n",
    "import autograd.numpy as np\n",
    "import autograd.numpy.random as npr\n",
    "from autograd.scipy.misc import logsumexp\n",
    "from autograd import grad\n",
    "from autograd.util import flatten\n",
    "from autograd.optimizers import adam\n",
    "from data import load_mnist\n",
    "%matplotlib inline"
   ]
  },
  {
   "cell_type": "code",
   "execution_count": 4,
   "metadata": {
    "collapsed": true
   },
   "outputs": [],
   "source": [
    "def init_random_params(scale, layer_sizes, rs=npr.RandomState(0)):\n",
    "    \"\"\"Build a list of (weights, biases) tuples,\n",
    "       one for each layer in the net.\"\"\"\n",
    "    return [(scale * rs.randn(m, n),   # weight matrix\n",
    "             scale * rs.randn(n))      # bias vector\n",
    "            for m, n in zip(layer_sizes[:-1], layer_sizes[1:])]\n",
    "\n",
    "def neural_net_predict(params, inputs):\n",
    "    \"\"\"Implements a deep neural network for classification.\n",
    "       params is a list of (weights, bias) tuples.\n",
    "       inputs is an (N x D) matrix.\n",
    "       returns normalized class log-probabilities.\"\"\"\n",
    "    for W, b in params:\n",
    "        outputs = np.dot(inputs, W) + b\n",
    "        inputs = np.tanh(outputs)\n",
    "    return outputs - logsumexp(outputs, axis=1, keepdims=True)\n",
    "\n",
    "def l2_norm(params):\n",
    "    \"\"\"Computes l2 norm of params by flattening them into a vector.\"\"\"\n",
    "    flattened, _ = flatten(params)\n",
    "    return np.dot(flattened, flattened)\n",
    "\n",
    "def log_posterior(params, inputs, targets, L2_reg):\n",
    "    log_prior = -L2_reg * l2_norm(params)\n",
    "    log_lik = np.sum(neural_net_predict(params, inputs) * targets)\n",
    "    return log_prior + log_lik\n",
    "\n",
    "def accuracy(params, inputs, targets):\n",
    "    target_class    = np.argmax(targets, axis=1)\n",
    "    predicted_class = np.argmax(neural_net_predict(params, inputs), axis=1)\n",
    "    return np.mean(predicted_class == target_class)"
   ]
  },
  {
   "cell_type": "code",
   "execution_count": 8,
   "metadata": {
    "collapsed": false
   },
   "outputs": [
    {
     "name": "stdout",
     "output_type": "stream",
     "text": [
      "Loading training data...\n",
      "     Epoch     |    Train accuracy  |       Test accuracy  \n",
      "              0|     0.0939333333333|              0.0898\n",
      "              1|      0.909083333333|              0.9148\n",
      "              2|      0.913266666667|              0.9171\n",
      "              3|      0.917233333333|              0.9204\n",
      "              4|      0.920783333333|              0.9243\n",
      "              5|      0.924383333333|              0.9277\n",
      "              6|             0.92765|              0.9304\n",
      "              7|      0.930083333333|               0.933\n",
      "              8|      0.932233333333|              0.9343\n",
      "              9|      0.933833333333|              0.9357\n"
     ]
    }
   ],
   "source": [
    "if True:\n",
    "    # Model parameters\n",
    "    layer_sizes = [784, 200, 100, 10]\n",
    "    L2_reg = 1.0\n",
    "\n",
    "    # Training parameters\n",
    "    param_scale = 0.1\n",
    "    batch_size = 256\n",
    "    num_epochs = 10\n",
    "    step_size = 0.001\n",
    "\n",
    "    print(\"Loading training data...\")\n",
    "    N, train_images, train_labels, test_images,  test_labels = load_mnist()\n",
    "\n",
    "    init_params = init_random_params(param_scale, layer_sizes)\n",
    "\n",
    "    num_batches = int(np.ceil(len(train_images) / batch_size))\n",
    "    def batch_indices(iter):\n",
    "        idx = iter % num_batches\n",
    "        return slice(idx * batch_size, (idx+1) * batch_size)\n",
    "\n",
    "    # Define training objective\n",
    "    def objective(params, iter):\n",
    "        idx = batch_indices(iter)\n",
    "        return -log_posterior(params, train_images[idx], train_labels[idx], L2_reg)\n",
    "\n",
    "    # Get gradient of objective using autograd.\n",
    "    objective_grad = grad(objective)\n",
    "\n",
    "    acc = []\n",
    "    print(\"     Epoch     |    Train accuracy  |       Test accuracy  \")\n",
    "    def print_perf(params, iter, gradient):\n",
    "        if iter % num_batches == 0:\n",
    "            train_acc = accuracy(params, train_images, train_labels)\n",
    "            test_acc  = accuracy(params, test_images, test_labels)\n",
    "            acc.append((train_acc, test_acc))\n",
    "            print(\"{:15}|{:20}|{:20}\".format(iter//num_batches, train_acc, test_acc))\n",
    "\n",
    "    # The optimizers provided can optimize lists, tuples, or dicts of parameters.\n",
    "    optimized_params = adam(objective_grad, init_params, step_size=step_size,\n",
    "                            num_iters=num_epochs * num_batches, callback=print_perf)"
   ]
  },
  {
   "cell_type": "code",
   "execution_count": 23,
   "metadata": {
    "collapsed": false
   },
   "outputs": [
    {
     "data": {
      "text/plain": [
       "[<matplotlib.lines.Line2D at 0x7f5f7d160150>,\n",
       " <matplotlib.lines.Line2D at 0x7f5f7d160350>]"
      ]
     },
     "execution_count": 23,
     "metadata": {},
     "output_type": "execute_result"
    },
    {
     "data": {
      "image/png": "[encoded data removed]",
      "text/plain": [
       "<matplotlib.figure.Figure at 0x7f5f7d25ae10>"
      ]
     },
     "metadata": {},
     "output_type": "display_data"
    }
   ],
   "source": [
    "acc1 = acc[1:]\n",
    "plot(range(len(acc1)), [t[0] for t in acc1], 'r', [t[1] for t in acc1], 'b')"
   ]
  },
  {
   "cell_type": "code",
   "execution_count": null,
   "metadata": {
    "collapsed": true
   },
   "outputs": [],
   "source": []
  }
 ],
 "metadata": {
  "anaconda-cloud": {},
  "kernelspec": {
   "display_name": "Python [default]",
   "language": "python",
   "name": "python2"
  },
  "language_info": {
   "codemirror_mode": {
    "name": "ipython",
    "version": 2
   },
   "file_extension": ".py",
   "mimetype": "text/x-python",
   "name": "python",
   "nbconvert_exporter": "python",
   "pygments_lexer": "ipython2",
   "version": "2.7.12"
  }
 },
 "nbformat": 4,
 "nbformat_minor": 1
}
