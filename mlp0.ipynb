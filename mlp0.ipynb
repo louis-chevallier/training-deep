{
 "cells": [
  {
   "cell_type": "markdown",
   "metadata": {},
   "source": [
    "## good old perceptron from scratch"
   ]
  },
  {
   "cell_type": "markdown",
   "metadata": {},
   "source": [
    "tiny toy problem, no test data, no hidden layer, square loss\n",
    "- implement full-batch vectorized gradient descent\n",
    "- play with parameters and target (change to [0,1,1,0])\n",
    "- add one hidden layer with sigmoid\n",
    "- loop on different step sizes"
   ]
  },
  {
   "cell_type": "code",
   "execution_count": 16,
   "metadata": {
    "collapsed": false
   },
   "outputs": [],
   "source": [
    "import numpy as np\n",
    "import matplotlib.pyplot as plt\n",
    "\n",
    "# main parameters\n",
    "iterNum = 10000\n",
    "stepSize = 0.1\n",
    "\n",
    "# Display plots inline \n",
    "%matplotlib inline\n",
    "# Define plot's default figure size\n",
    "matplotlib.rcParams['figure.figsize'] = (2.0, 2.0)"
   ]
  },
  {
   "cell_type": "markdown",
   "metadata": {},
   "source": [
    "bounded smooth non-linearity: \n",
    "$\\sigma(x) = \\frac{1}{1+\\exp(-x)},\\quad\\sigma'(x) = \\sigma(x)(1-\\sigma(x))$"
   ]
  },
  {
   "cell_type": "code",
   "execution_count": 17,
   "metadata": {
    "collapsed": true
   },
   "outputs": [],
   "source": [
    "# compute sigmoid\n",
    "def sigmoid(x):\n",
    "    output = 1/(1+np.exp(-x))\n",
    "    return output\n",
    "\n",
    "# convert output of sigmoid function to its derivative\n",
    "def sigmoid_output_to_derivative(output):\n",
    "    return output*(1-output)"
   ]
  },
  {
   "cell_type": "code",
   "execution_count": 18,
   "metadata": {
    "collapsed": false
   },
   "outputs": [
    {
     "name": "stdout",
     "output_type": "stream",
     "text": [
      "(3, 4)\n",
      "(1, 4)\n"
     ]
    }
   ],
   "source": [
    "# input dataset\n",
    "X = np.array([  [0,0,1,1],\n",
    "                [0,1,0,1],\n",
    "                [1,1,1,1] ])\n",
    "print(X.shape)\n",
    "# output dataset            \n",
    "Y = np.array([[0,0,1,1]])\n",
    "trainNum = Y.shape[1]  \n",
    "print(Y.shape)"
   ]
  },
  {
   "cell_type": "code",
   "execution_count": 19,
   "metadata": {
    "collapsed": false,
    "scrolled": true
   },
   "outputs": [
    {
     "data": {
      "text/plain": [
       "<matplotlib.text.Text at 0x7ff7f97d3f50>"
      ]
     },
     "execution_count": 19,
     "metadata": {},
     "output_type": "execute_result"
    },
    {
     "data": {
      "image/png": "[encoded data removed]",
      "text/plain": [
       "<matplotlib.figure.Figure at 0x7ff7f9856310>"
      ]
     },
     "metadata": {},
     "output_type": "display_data"
    }
   ],
   "source": [
    "# initialize weights randomly with mean 0\n",
    "# np.random.seed(1)\n",
    "W1 = 2 * np.random.random((1,3)) - 1\n",
    "# visualize weights\n",
    "plt.imshow(W1,interpolation = 'none')\n",
    "plt.axis('off')\n",
    "plt.title('W1')"
   ]
  },
  {
   "cell_type": "markdown",
   "metadata": {},
   "source": [
    "activation (no bias): $a_{\\ell} = Wx_{\\ell-1}$, output: $x_{\\ell} = \\sigma(a_{\\ell})$  "
   ]
  },
  {
   "cell_type": "markdown",
   "metadata": {},
   "source": [
    "square loss: $\\frac{1}{2N} \\sum_{n=1}^{N} \\|x_1^{(n)}-y^{(n)}\\|^2$"
   ]
  },
  {
   "cell_type": "code",
   "execution_count": 23,
   "metadata": {
    "collapsed": false
   },
   "outputs": [],
   "source": [
    "# training with full-batch fixed step-size gradient descent\n",
    "for iter in range(iterNum):\n",
    "\n",
    "    # forward propagation on all training data\n",
    "    X0 = X\n",
    "    A1 = np.dot(W1,X0)  \n",
    "    X1 = sigmoid(A1)\n",
    "\n",
    "    # back propagation of errors\n",
    "    G1 = X1 - Y\n",
    "    H1  = G1 * sigmoid_output_to_derivative(X1)\n",
    "    \n",
    "    # Udpating weights\n",
    "    W1 -= stepSize * np.dot(H1,X.T) / trainNum"
   ]
  },
  {
   "cell_type": "code",
   "execution_count": 24,
   "metadata": {
    "collapsed": false
   },
   "outputs": [
    {
     "name": "stdout",
     "output_type": "stream",
     "text": [
      "Prediction vs. target on training set:\n",
      "[[ 0.03701253  0.03001293  0.97562898  0.96990437]]\n",
      "[[0 0 1 1]]\n"
     ]
    }
   ],
   "source": [
    "print(\"Prediction vs. target on training set:\")\n",
    "print(X1)\n",
    "print(Y)"
   ]
  },
  {
   "cell_type": "code",
   "execution_count": null,
   "metadata": {
    "collapsed": false
   },
   "outputs": [],
   "source": [
    "# visualize final weights\n",
    "plt.imshow(W1,interpolation = 'none')\n",
    "plt.axis('off')\n",
    "plt.title('W1')"
   ]
  }
 ],
 "metadata": {
  "anaconda-cloud": {},
  "kernelspec": {
   "display_name": "Python [default]",
   "language": "python",
   "name": "python2"
  },
  "language_info": {
   "codemirror_mode": {
    "name": "ipython",
    "version": 2
   },
   "file_extension": ".py",
   "mimetype": "text/x-python",
   "name": "python",
   "nbconvert_exporter": "python",
   "pygments_lexer": "ipython2",
   "version": "2.7.12"
  }
 },
 "nbformat": 4,
 "nbformat_minor": 1
}
